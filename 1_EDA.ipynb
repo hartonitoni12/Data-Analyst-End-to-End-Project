{
 "cells": [
  {
   "cell_type": "code",
   "execution_count": 5,
   "id": "80259290",
   "metadata": {},
   "outputs": [],
   "source": [
    "import pandas as pd\n",
    "import matplotlib.pyplot as plt"
   ]
  },
  {
   "cell_type": "markdown",
   "id": "3b79c523",
   "metadata": {},
   "source": [
    "## EXPORT THE DATA"
   ]
  },
  {
   "cell_type": "code",
   "execution_count": 6,
   "id": "4b38b4ba",
   "metadata": {},
   "outputs": [],
   "source": [
    "df_fact_sales = pd.read_csv(r'C:\\Users\\harto\\OneDrive\\Dokumen\\Python Course\\3. Project\\gold_fact_sales.csv')\n",
    "df_dim_customers = pd.read_csv(r'C:\\Users\\harto\\OneDrive\\Dokumen\\Python Course\\3. Project\\gold_dim_customers.csv')\n",
    "df_dim_products = pd.read_csv(r'C:\\Users\\harto\\OneDrive\\Dokumen\\Python Course\\3. Project\\gold_dim_products.csv')"
   ]
  },
  {
   "cell_type": "markdown",
   "id": "314ef883",
   "metadata": {},
   "source": [
    "## CLEAN THE DATA"
   ]
  },
  {
   "cell_type": "code",
   "execution_count": 7,
   "id": "dcdc8f8c",
   "metadata": {},
   "outputs": [],
   "source": [
    "df_fact_sales['order_date'] = pd.to_datetime(df_fact_sales['order_date'], dayfirst = True)\n",
    "df_fact_sales['ship_date'] = pd.to_datetime(df_fact_sales['ship_date'], dayfirst = True)\n",
    "df_fact_sales['due_date'] = pd.to_datetime(df_fact_sales['due_date'], dayfirst = True)\n",
    "df_dim_customers['birth_date'] = pd.to_datetime(df_dim_customers['birth_date'], dayfirst = True)\n",
    "df_dim_products['start_date'] = pd.to_datetime(df_dim_products['start_date'], dayfirst = True)"
   ]
  },
  {
   "cell_type": "markdown",
   "id": "a11bffaa",
   "metadata": {},
   "source": [
    "# EXPLORATORY DATA ANALYSIS"
   ]
  },
  {
   "cell_type": "markdown",
   "id": "75193d0e",
   "metadata": {},
   "source": [
    "## 1. Explore Object in Table"
   ]
  },
  {
   "cell_type": "markdown",
   "id": "603362e1",
   "metadata": {},
   "source": [
    "### 1.1 Exploring Column and It's Datatype of Each Table"
   ]
  },
  {
   "cell_type": "code",
   "execution_count": 8,
   "id": "ded7fc5b",
   "metadata": {},
   "outputs": [
    {
     "name": "stdout",
     "output_type": "stream",
     "text": [
      "<class 'pandas.core.frame.DataFrame'>\n",
      "RangeIndex: 60398 entries, 0 to 60397\n",
      "Data columns (total 10 columns):\n",
      " #   Column        Non-Null Count  Dtype         \n",
      "---  ------        --------------  -----         \n",
      " 0   order_number  60398 non-null  object        \n",
      " 1   customer_key  60398 non-null  int64         \n",
      " 2   product_key   60398 non-null  int64         \n",
      " 3   order_date    60379 non-null  datetime64[ns]\n",
      " 4   ship_date     60398 non-null  datetime64[ns]\n",
      " 5   due_date      60398 non-null  datetime64[ns]\n",
      " 6   sales_amount  60398 non-null  int64         \n",
      " 7   quantitiy     60398 non-null  int64         \n",
      " 8   price         60398 non-null  int64         \n",
      " 9   Unnamed: 9    0 non-null      float64       \n",
      "dtypes: datetime64[ns](3), float64(1), int64(5), object(1)\n",
      "memory usage: 4.6+ MB\n"
     ]
    }
   ],
   "source": [
    "# EXPLORE THE DATATYPE AND COLUMN OF gold.fact_sales\n",
    "\n",
    "df_fact_sales.info()"
   ]
  },
  {
   "cell_type": "code",
   "execution_count": 9,
   "id": "96ca4645",
   "metadata": {},
   "outputs": [
    {
     "name": "stdout",
     "output_type": "stream",
     "text": [
      "<class 'pandas.core.frame.DataFrame'>\n",
      "RangeIndex: 18484 entries, 0 to 18483\n",
      "Data columns (total 10 columns):\n",
      " #   Column           Non-Null Count  Dtype         \n",
      "---  ------           --------------  -----         \n",
      " 0   customer_key     18484 non-null  int64         \n",
      " 1   customer_id      18484 non-null  int64         \n",
      " 2   customer_number  18484 non-null  object        \n",
      " 3   first_name       18484 non-null  object        \n",
      " 4   last_name        18484 non-null  object        \n",
      " 5   marital_status   18484 non-null  object        \n",
      " 6   gender           18469 non-null  object        \n",
      " 7   birth_date       18467 non-null  datetime64[ns]\n",
      " 8   country          18147 non-null  object        \n",
      " 9   create_date      18484 non-null  object        \n",
      "dtypes: datetime64[ns](1), int64(2), object(7)\n",
      "memory usage: 1.4+ MB\n"
     ]
    }
   ],
   "source": [
    "# EXPLORE THE DATATYPE AND COLUMN OF gold.dim_customers\n",
    "\n",
    "df_dim_customers.info()"
   ]
  },
  {
   "cell_type": "code",
   "execution_count": 10,
   "id": "08cce539",
   "metadata": {},
   "outputs": [
    {
     "name": "stdout",
     "output_type": "stream",
     "text": [
      "<class 'pandas.core.frame.DataFrame'>\n",
      "RangeIndex: 295 entries, 0 to 294\n",
      "Data columns (total 10 columns):\n",
      " #   Column          Non-Null Count  Dtype         \n",
      "---  ------          --------------  -----         \n",
      " 0   product_key     295 non-null    int64         \n",
      " 1   product_id      295 non-null    int64         \n",
      " 2   product_number  295 non-null    object        \n",
      " 3   product_name    295 non-null    object        \n",
      " 4   category_id     295 non-null    object        \n",
      " 5   category        288 non-null    object        \n",
      " 6   subcategory     288 non-null    object        \n",
      " 7   product_cost    295 non-null    int64         \n",
      " 8   maintanance     288 non-null    object        \n",
      " 9   start_date      295 non-null    datetime64[ns]\n",
      "dtypes: datetime64[ns](1), int64(3), object(6)\n",
      "memory usage: 23.2+ KB\n"
     ]
    }
   ],
   "source": [
    "# EXPLORE THE DATATYPE AND COLUMN OF gold.dim_products\n",
    "\n",
    "df_dim_products.info()"
   ]
  },
  {
   "cell_type": "markdown",
   "id": "f6b436d1",
   "metadata": {},
   "source": [
    "### 1.2 Exploring Top 10 Data Value"
   ]
  },
  {
   "cell_type": "code",
   "execution_count": 11,
   "id": "229ec8fa",
   "metadata": {},
   "outputs": [
    {
     "data": {
      "text/html": [
       "<div>\n",
       "<style scoped>\n",
       "    .dataframe tbody tr th:only-of-type {\n",
       "        vertical-align: middle;\n",
       "    }\n",
       "\n",
       "    .dataframe tbody tr th {\n",
       "        vertical-align: top;\n",
       "    }\n",
       "\n",
       "    .dataframe thead th {\n",
       "        text-align: right;\n",
       "    }\n",
       "</style>\n",
       "<table border=\"1\" class=\"dataframe\">\n",
       "  <thead>\n",
       "    <tr style=\"text-align: right;\">\n",
       "      <th></th>\n",
       "      <th>order_number</th>\n",
       "      <th>customer_key</th>\n",
       "      <th>product_key</th>\n",
       "      <th>order_date</th>\n",
       "      <th>ship_date</th>\n",
       "      <th>due_date</th>\n",
       "      <th>sales_amount</th>\n",
       "      <th>quantitiy</th>\n",
       "      <th>price</th>\n",
       "      <th>Unnamed: 9</th>\n",
       "    </tr>\n",
       "  </thead>\n",
       "  <tbody>\n",
       "    <tr>\n",
       "      <th>0</th>\n",
       "      <td>SO43697</td>\n",
       "      <td>10769</td>\n",
       "      <td>20</td>\n",
       "      <td>2010-12-29</td>\n",
       "      <td>2011-01-05</td>\n",
       "      <td>2011-01-10</td>\n",
       "      <td>3578</td>\n",
       "      <td>1</td>\n",
       "      <td>3578</td>\n",
       "      <td>NaN</td>\n",
       "    </tr>\n",
       "    <tr>\n",
       "      <th>1</th>\n",
       "      <td>SO43698</td>\n",
       "      <td>17390</td>\n",
       "      <td>9</td>\n",
       "      <td>2010-12-29</td>\n",
       "      <td>2011-01-05</td>\n",
       "      <td>2011-01-10</td>\n",
       "      <td>3400</td>\n",
       "      <td>1</td>\n",
       "      <td>3400</td>\n",
       "      <td>NaN</td>\n",
       "    </tr>\n",
       "    <tr>\n",
       "      <th>2</th>\n",
       "      <td>SO43699</td>\n",
       "      <td>14864</td>\n",
       "      <td>9</td>\n",
       "      <td>2010-12-29</td>\n",
       "      <td>2011-01-05</td>\n",
       "      <td>2011-01-10</td>\n",
       "      <td>3400</td>\n",
       "      <td>1</td>\n",
       "      <td>3400</td>\n",
       "      <td>NaN</td>\n",
       "    </tr>\n",
       "    <tr>\n",
       "      <th>3</th>\n",
       "      <td>SO43700</td>\n",
       "      <td>3502</td>\n",
       "      <td>41</td>\n",
       "      <td>2010-12-29</td>\n",
       "      <td>2011-01-05</td>\n",
       "      <td>2011-01-10</td>\n",
       "      <td>699</td>\n",
       "      <td>1</td>\n",
       "      <td>699</td>\n",
       "      <td>NaN</td>\n",
       "    </tr>\n",
       "    <tr>\n",
       "      <th>4</th>\n",
       "      <td>SO43701</td>\n",
       "      <td>4</td>\n",
       "      <td>9</td>\n",
       "      <td>2010-12-29</td>\n",
       "      <td>2011-01-05</td>\n",
       "      <td>2011-01-10</td>\n",
       "      <td>3400</td>\n",
       "      <td>1</td>\n",
       "      <td>3400</td>\n",
       "      <td>NaN</td>\n",
       "    </tr>\n",
       "    <tr>\n",
       "      <th>5</th>\n",
       "      <td>SO43702</td>\n",
       "      <td>16646</td>\n",
       "      <td>16</td>\n",
       "      <td>2010-12-30</td>\n",
       "      <td>2011-01-06</td>\n",
       "      <td>2011-01-11</td>\n",
       "      <td>3578</td>\n",
       "      <td>1</td>\n",
       "      <td>3578</td>\n",
       "      <td>NaN</td>\n",
       "    </tr>\n",
       "    <tr>\n",
       "      <th>6</th>\n",
       "      <td>SO43703</td>\n",
       "      <td>5625</td>\n",
       "      <td>20</td>\n",
       "      <td>2010-12-30</td>\n",
       "      <td>2011-01-06</td>\n",
       "      <td>2011-01-11</td>\n",
       "      <td>3578</td>\n",
       "      <td>1</td>\n",
       "      <td>3578</td>\n",
       "      <td>NaN</td>\n",
       "    </tr>\n",
       "    <tr>\n",
       "      <th>7</th>\n",
       "      <td>SO43704</td>\n",
       "      <td>6</td>\n",
       "      <td>6</td>\n",
       "      <td>2010-12-30</td>\n",
       "      <td>2011-01-06</td>\n",
       "      <td>2011-01-11</td>\n",
       "      <td>3375</td>\n",
       "      <td>1</td>\n",
       "      <td>3375</td>\n",
       "      <td>NaN</td>\n",
       "    </tr>\n",
       "    <tr>\n",
       "      <th>8</th>\n",
       "      <td>SO43705</td>\n",
       "      <td>12</td>\n",
       "      <td>7</td>\n",
       "      <td>2010-12-30</td>\n",
       "      <td>2011-01-06</td>\n",
       "      <td>2011-01-11</td>\n",
       "      <td>3400</td>\n",
       "      <td>1</td>\n",
       "      <td>3400</td>\n",
       "      <td>NaN</td>\n",
       "    </tr>\n",
       "    <tr>\n",
       "      <th>9</th>\n",
       "      <td>SO43706</td>\n",
       "      <td>16622</td>\n",
       "      <td>17</td>\n",
       "      <td>2010-12-31</td>\n",
       "      <td>2011-01-07</td>\n",
       "      <td>2011-01-12</td>\n",
       "      <td>3578</td>\n",
       "      <td>1</td>\n",
       "      <td>3578</td>\n",
       "      <td>NaN</td>\n",
       "    </tr>\n",
       "  </tbody>\n",
       "</table>\n",
       "</div>"
      ],
      "text/plain": [
       "  order_number  customer_key  product_key order_date  ship_date   due_date  \\\n",
       "0      SO43697         10769           20 2010-12-29 2011-01-05 2011-01-10   \n",
       "1      SO43698         17390            9 2010-12-29 2011-01-05 2011-01-10   \n",
       "2      SO43699         14864            9 2010-12-29 2011-01-05 2011-01-10   \n",
       "3      SO43700          3502           41 2010-12-29 2011-01-05 2011-01-10   \n",
       "4      SO43701             4            9 2010-12-29 2011-01-05 2011-01-10   \n",
       "5      SO43702         16646           16 2010-12-30 2011-01-06 2011-01-11   \n",
       "6      SO43703          5625           20 2010-12-30 2011-01-06 2011-01-11   \n",
       "7      SO43704             6            6 2010-12-30 2011-01-06 2011-01-11   \n",
       "8      SO43705            12            7 2010-12-30 2011-01-06 2011-01-11   \n",
       "9      SO43706         16622           17 2010-12-31 2011-01-07 2011-01-12   \n",
       "\n",
       "   sales_amount  quantitiy  price  Unnamed: 9  \n",
       "0          3578          1   3578         NaN  \n",
       "1          3400          1   3400         NaN  \n",
       "2          3400          1   3400         NaN  \n",
       "3           699          1    699         NaN  \n",
       "4          3400          1   3400         NaN  \n",
       "5          3578          1   3578         NaN  \n",
       "6          3578          1   3578         NaN  \n",
       "7          3375          1   3375         NaN  \n",
       "8          3400          1   3400         NaN  \n",
       "9          3578          1   3578         NaN  "
      ]
     },
     "execution_count": 11,
     "metadata": {},
     "output_type": "execute_result"
    }
   ],
   "source": [
    "df_fact_sales.head(10)"
   ]
  },
  {
   "cell_type": "code",
   "execution_count": 12,
   "id": "4ef9c16b",
   "metadata": {},
   "outputs": [
    {
     "data": {
      "text/html": [
       "<div>\n",
       "<style scoped>\n",
       "    .dataframe tbody tr th:only-of-type {\n",
       "        vertical-align: middle;\n",
       "    }\n",
       "\n",
       "    .dataframe tbody tr th {\n",
       "        vertical-align: top;\n",
       "    }\n",
       "\n",
       "    .dataframe thead th {\n",
       "        text-align: right;\n",
       "    }\n",
       "</style>\n",
       "<table border=\"1\" class=\"dataframe\">\n",
       "  <thead>\n",
       "    <tr style=\"text-align: right;\">\n",
       "      <th></th>\n",
       "      <th>customer_key</th>\n",
       "      <th>customer_id</th>\n",
       "      <th>customer_number</th>\n",
       "      <th>first_name</th>\n",
       "      <th>last_name</th>\n",
       "      <th>marital_status</th>\n",
       "      <th>gender</th>\n",
       "      <th>birth_date</th>\n",
       "      <th>country</th>\n",
       "      <th>create_date</th>\n",
       "    </tr>\n",
       "  </thead>\n",
       "  <tbody>\n",
       "    <tr>\n",
       "      <th>0</th>\n",
       "      <td>1</td>\n",
       "      <td>11000</td>\n",
       "      <td>AW00011000</td>\n",
       "      <td>Jon</td>\n",
       "      <td>Yang</td>\n",
       "      <td>Married</td>\n",
       "      <td>Male</td>\n",
       "      <td>1971-10-06</td>\n",
       "      <td>Australia</td>\n",
       "      <td>06/10/2025</td>\n",
       "    </tr>\n",
       "    <tr>\n",
       "      <th>1</th>\n",
       "      <td>2</td>\n",
       "      <td>11001</td>\n",
       "      <td>AW00011001</td>\n",
       "      <td>Eugene</td>\n",
       "      <td>Huang</td>\n",
       "      <td>Single</td>\n",
       "      <td>Male</td>\n",
       "      <td>1976-05-10</td>\n",
       "      <td>Australia</td>\n",
       "      <td>06/10/2025</td>\n",
       "    </tr>\n",
       "    <tr>\n",
       "      <th>2</th>\n",
       "      <td>3</td>\n",
       "      <td>11002</td>\n",
       "      <td>AW00011002</td>\n",
       "      <td>Ruben</td>\n",
       "      <td>Torres</td>\n",
       "      <td>Married</td>\n",
       "      <td>Male</td>\n",
       "      <td>1971-02-09</td>\n",
       "      <td>Australia</td>\n",
       "      <td>06/10/2025</td>\n",
       "    </tr>\n",
       "    <tr>\n",
       "      <th>3</th>\n",
       "      <td>4</td>\n",
       "      <td>11003</td>\n",
       "      <td>AW00011003</td>\n",
       "      <td>Christy</td>\n",
       "      <td>Zhu</td>\n",
       "      <td>Single</td>\n",
       "      <td>Female</td>\n",
       "      <td>1973-08-14</td>\n",
       "      <td>Australia</td>\n",
       "      <td>06/10/2025</td>\n",
       "    </tr>\n",
       "    <tr>\n",
       "      <th>4</th>\n",
       "      <td>5</td>\n",
       "      <td>11004</td>\n",
       "      <td>AW00011004</td>\n",
       "      <td>Elizabeth</td>\n",
       "      <td>Johnson</td>\n",
       "      <td>Single</td>\n",
       "      <td>Female</td>\n",
       "      <td>1979-08-05</td>\n",
       "      <td>Australia</td>\n",
       "      <td>06/10/2025</td>\n",
       "    </tr>\n",
       "    <tr>\n",
       "      <th>5</th>\n",
       "      <td>6</td>\n",
       "      <td>11005</td>\n",
       "      <td>AW00011005</td>\n",
       "      <td>Julio</td>\n",
       "      <td>Ruiz</td>\n",
       "      <td>Single</td>\n",
       "      <td>Male</td>\n",
       "      <td>1976-08-01</td>\n",
       "      <td>Australia</td>\n",
       "      <td>06/10/2025</td>\n",
       "    </tr>\n",
       "    <tr>\n",
       "      <th>6</th>\n",
       "      <td>7</td>\n",
       "      <td>11006</td>\n",
       "      <td>AW00011006</td>\n",
       "      <td>Janet</td>\n",
       "      <td>Alvarez</td>\n",
       "      <td>Single</td>\n",
       "      <td>Female</td>\n",
       "      <td>1976-12-02</td>\n",
       "      <td>Australia</td>\n",
       "      <td>06/10/2025</td>\n",
       "    </tr>\n",
       "    <tr>\n",
       "      <th>7</th>\n",
       "      <td>8</td>\n",
       "      <td>11007</td>\n",
       "      <td>AW00011007</td>\n",
       "      <td>Marco</td>\n",
       "      <td>Mehta</td>\n",
       "      <td>Married</td>\n",
       "      <td>Male</td>\n",
       "      <td>1969-11-06</td>\n",
       "      <td>Australia</td>\n",
       "      <td>06/10/2025</td>\n",
       "    </tr>\n",
       "    <tr>\n",
       "      <th>8</th>\n",
       "      <td>9</td>\n",
       "      <td>11008</td>\n",
       "      <td>AW00011008</td>\n",
       "      <td>Rob</td>\n",
       "      <td>Verhoff</td>\n",
       "      <td>Single</td>\n",
       "      <td>Female</td>\n",
       "      <td>1975-07-04</td>\n",
       "      <td>Australia</td>\n",
       "      <td>06/10/2025</td>\n",
       "    </tr>\n",
       "    <tr>\n",
       "      <th>9</th>\n",
       "      <td>10</td>\n",
       "      <td>11009</td>\n",
       "      <td>AW00011009</td>\n",
       "      <td>Shannon</td>\n",
       "      <td>Carlson</td>\n",
       "      <td>Single</td>\n",
       "      <td>Male</td>\n",
       "      <td>1969-09-29</td>\n",
       "      <td>Australia</td>\n",
       "      <td>06/10/2025</td>\n",
       "    </tr>\n",
       "  </tbody>\n",
       "</table>\n",
       "</div>"
      ],
      "text/plain": [
       "   customer_key  customer_id customer_number first_name last_name  \\\n",
       "0             1        11000      AW00011000        Jon      Yang   \n",
       "1             2        11001      AW00011001     Eugene     Huang   \n",
       "2             3        11002      AW00011002      Ruben    Torres   \n",
       "3             4        11003      AW00011003    Christy       Zhu   \n",
       "4             5        11004      AW00011004  Elizabeth   Johnson   \n",
       "5             6        11005      AW00011005      Julio      Ruiz   \n",
       "6             7        11006      AW00011006      Janet   Alvarez   \n",
       "7             8        11007      AW00011007      Marco     Mehta   \n",
       "8             9        11008      AW00011008        Rob   Verhoff   \n",
       "9            10        11009      AW00011009    Shannon   Carlson   \n",
       "\n",
       "  marital_status  gender birth_date    country create_date  \n",
       "0        Married    Male 1971-10-06  Australia  06/10/2025  \n",
       "1         Single    Male 1976-05-10  Australia  06/10/2025  \n",
       "2        Married    Male 1971-02-09  Australia  06/10/2025  \n",
       "3         Single  Female 1973-08-14  Australia  06/10/2025  \n",
       "4         Single  Female 1979-08-05  Australia  06/10/2025  \n",
       "5         Single    Male 1976-08-01  Australia  06/10/2025  \n",
       "6         Single  Female 1976-12-02  Australia  06/10/2025  \n",
       "7        Married    Male 1969-11-06  Australia  06/10/2025  \n",
       "8         Single  Female 1975-07-04  Australia  06/10/2025  \n",
       "9         Single    Male 1969-09-29  Australia  06/10/2025  "
      ]
     },
     "execution_count": 12,
     "metadata": {},
     "output_type": "execute_result"
    }
   ],
   "source": [
    "df_dim_customers.head(10)"
   ]
  },
  {
   "cell_type": "code",
   "execution_count": 13,
   "id": "30bcb736",
   "metadata": {},
   "outputs": [
    {
     "data": {
      "text/html": [
       "<div>\n",
       "<style scoped>\n",
       "    .dataframe tbody tr th:only-of-type {\n",
       "        vertical-align: middle;\n",
       "    }\n",
       "\n",
       "    .dataframe tbody tr th {\n",
       "        vertical-align: top;\n",
       "    }\n",
       "\n",
       "    .dataframe thead th {\n",
       "        text-align: right;\n",
       "    }\n",
       "</style>\n",
       "<table border=\"1\" class=\"dataframe\">\n",
       "  <thead>\n",
       "    <tr style=\"text-align: right;\">\n",
       "      <th></th>\n",
       "      <th>product_key</th>\n",
       "      <th>product_id</th>\n",
       "      <th>product_number</th>\n",
       "      <th>product_name</th>\n",
       "      <th>category_id</th>\n",
       "      <th>category</th>\n",
       "      <th>subcategory</th>\n",
       "      <th>product_cost</th>\n",
       "      <th>maintanance</th>\n",
       "      <th>start_date</th>\n",
       "    </tr>\n",
       "  </thead>\n",
       "  <tbody>\n",
       "    <tr>\n",
       "      <th>0</th>\n",
       "      <td>1</td>\n",
       "      <td>210</td>\n",
       "      <td>FR-R92B-58</td>\n",
       "      <td>HL Road Frame - Black- 58</td>\n",
       "      <td>CO_RF</td>\n",
       "      <td>Components</td>\n",
       "      <td>Road Frames</td>\n",
       "      <td>0</td>\n",
       "      <td>Yes</td>\n",
       "      <td>2003-07-01</td>\n",
       "    </tr>\n",
       "    <tr>\n",
       "      <th>1</th>\n",
       "      <td>2</td>\n",
       "      <td>211</td>\n",
       "      <td>FR-R92R-58</td>\n",
       "      <td>HL Road Frame - Red- 58</td>\n",
       "      <td>CO_RF</td>\n",
       "      <td>Components</td>\n",
       "      <td>Road Frames</td>\n",
       "      <td>0</td>\n",
       "      <td>Yes</td>\n",
       "      <td>2003-07-01</td>\n",
       "    </tr>\n",
       "    <tr>\n",
       "      <th>2</th>\n",
       "      <td>3</td>\n",
       "      <td>348</td>\n",
       "      <td>BK-M82B-38</td>\n",
       "      <td>Mountain-100 Black- 38</td>\n",
       "      <td>BI_MB</td>\n",
       "      <td>Bikes</td>\n",
       "      <td>Mountain Bikes</td>\n",
       "      <td>1898</td>\n",
       "      <td>Yes</td>\n",
       "      <td>2011-07-01</td>\n",
       "    </tr>\n",
       "    <tr>\n",
       "      <th>3</th>\n",
       "      <td>4</td>\n",
       "      <td>349</td>\n",
       "      <td>BK-M82B-42</td>\n",
       "      <td>Mountain-100 Black- 42</td>\n",
       "      <td>BI_MB</td>\n",
       "      <td>Bikes</td>\n",
       "      <td>Mountain Bikes</td>\n",
       "      <td>1898</td>\n",
       "      <td>Yes</td>\n",
       "      <td>2011-07-01</td>\n",
       "    </tr>\n",
       "    <tr>\n",
       "      <th>4</th>\n",
       "      <td>5</td>\n",
       "      <td>350</td>\n",
       "      <td>BK-M82B-44</td>\n",
       "      <td>Mountain-100 Black- 44</td>\n",
       "      <td>BI_MB</td>\n",
       "      <td>Bikes</td>\n",
       "      <td>Mountain Bikes</td>\n",
       "      <td>1898</td>\n",
       "      <td>Yes</td>\n",
       "      <td>2011-07-01</td>\n",
       "    </tr>\n",
       "    <tr>\n",
       "      <th>5</th>\n",
       "      <td>6</td>\n",
       "      <td>351</td>\n",
       "      <td>BK-M82B-48</td>\n",
       "      <td>Mountain-100 Black- 48</td>\n",
       "      <td>BI_MB</td>\n",
       "      <td>Bikes</td>\n",
       "      <td>Mountain Bikes</td>\n",
       "      <td>1898</td>\n",
       "      <td>Yes</td>\n",
       "      <td>2011-07-01</td>\n",
       "    </tr>\n",
       "    <tr>\n",
       "      <th>6</th>\n",
       "      <td>7</td>\n",
       "      <td>344</td>\n",
       "      <td>BK-M82S-38</td>\n",
       "      <td>Mountain-100 Silver- 38</td>\n",
       "      <td>BI_MB</td>\n",
       "      <td>Bikes</td>\n",
       "      <td>Mountain Bikes</td>\n",
       "      <td>1912</td>\n",
       "      <td>Yes</td>\n",
       "      <td>2011-07-01</td>\n",
       "    </tr>\n",
       "    <tr>\n",
       "      <th>7</th>\n",
       "      <td>8</td>\n",
       "      <td>345</td>\n",
       "      <td>BK-M82S-42</td>\n",
       "      <td>Mountain-100 Silver- 42</td>\n",
       "      <td>BI_MB</td>\n",
       "      <td>Bikes</td>\n",
       "      <td>Mountain Bikes</td>\n",
       "      <td>1912</td>\n",
       "      <td>Yes</td>\n",
       "      <td>2011-07-01</td>\n",
       "    </tr>\n",
       "    <tr>\n",
       "      <th>8</th>\n",
       "      <td>9</td>\n",
       "      <td>346</td>\n",
       "      <td>BK-M82S-44</td>\n",
       "      <td>Mountain-100 Silver- 44</td>\n",
       "      <td>BI_MB</td>\n",
       "      <td>Bikes</td>\n",
       "      <td>Mountain Bikes</td>\n",
       "      <td>1912</td>\n",
       "      <td>Yes</td>\n",
       "      <td>2011-07-01</td>\n",
       "    </tr>\n",
       "    <tr>\n",
       "      <th>9</th>\n",
       "      <td>10</td>\n",
       "      <td>347</td>\n",
       "      <td>BK-M82S-48</td>\n",
       "      <td>Mountain-100 Silver- 48</td>\n",
       "      <td>BI_MB</td>\n",
       "      <td>Bikes</td>\n",
       "      <td>Mountain Bikes</td>\n",
       "      <td>1912</td>\n",
       "      <td>Yes</td>\n",
       "      <td>2011-07-01</td>\n",
       "    </tr>\n",
       "  </tbody>\n",
       "</table>\n",
       "</div>"
      ],
      "text/plain": [
       "   product_key  product_id product_number               product_name  \\\n",
       "0            1         210     FR-R92B-58  HL Road Frame - Black- 58   \n",
       "1            2         211     FR-R92R-58    HL Road Frame - Red- 58   \n",
       "2            3         348     BK-M82B-38     Mountain-100 Black- 38   \n",
       "3            4         349     BK-M82B-42     Mountain-100 Black- 42   \n",
       "4            5         350     BK-M82B-44     Mountain-100 Black- 44   \n",
       "5            6         351     BK-M82B-48     Mountain-100 Black- 48   \n",
       "6            7         344     BK-M82S-38    Mountain-100 Silver- 38   \n",
       "7            8         345     BK-M82S-42    Mountain-100 Silver- 42   \n",
       "8            9         346     BK-M82S-44    Mountain-100 Silver- 44   \n",
       "9           10         347     BK-M82S-48    Mountain-100 Silver- 48   \n",
       "\n",
       "  category_id    category     subcategory  product_cost maintanance start_date  \n",
       "0       CO_RF  Components     Road Frames             0         Yes 2003-07-01  \n",
       "1       CO_RF  Components     Road Frames             0         Yes 2003-07-01  \n",
       "2       BI_MB       Bikes  Mountain Bikes          1898         Yes 2011-07-01  \n",
       "3       BI_MB       Bikes  Mountain Bikes          1898         Yes 2011-07-01  \n",
       "4       BI_MB       Bikes  Mountain Bikes          1898         Yes 2011-07-01  \n",
       "5       BI_MB       Bikes  Mountain Bikes          1898         Yes 2011-07-01  \n",
       "6       BI_MB       Bikes  Mountain Bikes          1912         Yes 2011-07-01  \n",
       "7       BI_MB       Bikes  Mountain Bikes          1912         Yes 2011-07-01  \n",
       "8       BI_MB       Bikes  Mountain Bikes          1912         Yes 2011-07-01  \n",
       "9       BI_MB       Bikes  Mountain Bikes          1912         Yes 2011-07-01  "
      ]
     },
     "execution_count": 13,
     "metadata": {},
     "output_type": "execute_result"
    }
   ],
   "source": [
    "df_dim_products.head(10)"
   ]
  },
  {
   "cell_type": "markdown",
   "id": "35e1af71",
   "metadata": {},
   "source": [
    "## 2. Dimension Exploration"
   ]
  },
  {
   "cell_type": "markdown",
   "id": "965d7cf3",
   "metadata": {},
   "source": [
    "### 2.1 Explore all countries where our customers came from"
   ]
  },
  {
   "cell_type": "code",
   "execution_count": 14,
   "id": "8704d74f",
   "metadata": {},
   "outputs": [
    {
     "data": {
      "text/plain": [
       "array(['Australia', 'United States', 'Canada', 'Germany',\n",
       "       'United Kingdom', 'France', nan], dtype=object)"
      ]
     },
     "execution_count": 14,
     "metadata": {},
     "output_type": "execute_result"
    }
   ],
   "source": [
    "df_dim_customers['country'].unique()"
   ]
  },
  {
   "cell_type": "markdown",
   "id": "4cf86e42",
   "metadata": {},
   "source": [
    "### 2.2 Explore All categories"
   ]
  },
  {
   "cell_type": "code",
   "execution_count": 15,
   "id": "cf7d70dd",
   "metadata": {},
   "outputs": [
    {
     "data": {
      "text/plain": [
       "array(['Components', 'Bikes', 'Clothing', 'Accessories', nan],\n",
       "      dtype=object)"
      ]
     },
     "execution_count": 15,
     "metadata": {},
     "output_type": "execute_result"
    }
   ],
   "source": [
    "df_dim_products['category'].unique()"
   ]
  },
  {
   "cell_type": "markdown",
   "id": "d0a5ccc7",
   "metadata": {},
   "source": [
    "## 3. KPI Analysis"
   ]
  },
  {
   "cell_type": "markdown",
   "id": "92352019",
   "metadata": {},
   "source": [
    "### 3.1 Find the total sales"
   ]
  },
  {
   "cell_type": "code",
   "execution_count": 16,
   "id": "e95c738e",
   "metadata": {},
   "outputs": [
    {
     "data": {
      "text/plain": [
       "np.int64(29356250)"
      ]
     },
     "execution_count": 16,
     "metadata": {},
     "output_type": "execute_result"
    }
   ],
   "source": [
    "df_fact_sales['sales_amount'].sum()"
   ]
  },
  {
   "cell_type": "markdown",
   "id": "ac8c0091",
   "metadata": {},
   "source": [
    "### 3.2 Find how many items are sold"
   ]
  },
  {
   "cell_type": "code",
   "execution_count": 17,
   "id": "1a2e7d3f",
   "metadata": {},
   "outputs": [
    {
     "data": {
      "text/plain": [
       "np.int64(60423)"
      ]
     },
     "execution_count": 17,
     "metadata": {},
     "output_type": "execute_result"
    }
   ],
   "source": [
    "df_fact_sales['quantitiy'].sum()"
   ]
  },
  {
   "cell_type": "markdown",
   "id": "6dc19191",
   "metadata": {},
   "source": [
    "### 3.3 Find AVG selling price"
   ]
  },
  {
   "cell_type": "code",
   "execution_count": 18,
   "id": "bd1d0b90",
   "metadata": {},
   "outputs": [
    {
     "data": {
      "text/plain": [
       "np.float64(486.0377827080367)"
      ]
     },
     "execution_count": 18,
     "metadata": {},
     "output_type": "execute_result"
    }
   ],
   "source": [
    "df_fact_sales['price'].mean()"
   ]
  },
  {
   "cell_type": "markdown",
   "id": "f24e5546",
   "metadata": {},
   "source": [
    "### 3.4 Find number of orders"
   ]
  },
  {
   "cell_type": "code",
   "execution_count": 19,
   "id": "d482401b",
   "metadata": {},
   "outputs": [
    {
     "data": {
      "text/plain": [
       "np.int64(60398)"
      ]
     },
     "execution_count": 19,
     "metadata": {},
     "output_type": "execute_result"
    }
   ],
   "source": [
    "df_fact_sales['order_number'].count()"
   ]
  },
  {
   "cell_type": "markdown",
   "id": "3adc18f5",
   "metadata": {},
   "source": [
    "### 3.5 Find the total number of products"
   ]
  },
  {
   "cell_type": "code",
   "execution_count": 20,
   "id": "457c3764",
   "metadata": {},
   "outputs": [
    {
     "data": {
      "text/plain": [
       "np.int64(295)"
      ]
     },
     "execution_count": 20,
     "metadata": {},
     "output_type": "execute_result"
    }
   ],
   "source": [
    "df_dim_products['product_id'].count()"
   ]
  },
  {
   "cell_type": "markdown",
   "id": "02c202f3",
   "metadata": {},
   "source": [
    "### 3.6 Find the total number of customers"
   ]
  },
  {
   "cell_type": "code",
   "execution_count": 21,
   "id": "ee8f89a4",
   "metadata": {},
   "outputs": [
    {
     "data": {
      "text/plain": [
       "np.int64(18484)"
      ]
     },
     "execution_count": 21,
     "metadata": {},
     "output_type": "execute_result"
    }
   ],
   "source": [
    "df_dim_customers['customer_id'].count()"
   ]
  },
  {
   "cell_type": "markdown",
   "id": "9235fd3c",
   "metadata": {},
   "source": [
    "## 4. Magnitude Analysis"
   ]
  },
  {
   "cell_type": "markdown",
   "id": "4a7db5a3",
   "metadata": {},
   "source": [
    "### 4.1 Find total customers by country"
   ]
  },
  {
   "cell_type": "code",
   "execution_count": 22,
   "id": "37c79d77",
   "metadata": {},
   "outputs": [
    {
     "data": {
      "text/plain": [
       "country\n",
       "Australia         13345\n",
       "Canada             7620\n",
       "France             5558\n",
       "Germany            5625\n",
       "United Kingdom     6906\n",
       "United States     20473\n",
       "dtype: int64"
      ]
     },
     "execution_count": 22,
     "metadata": {},
     "output_type": "execute_result"
    }
   ],
   "source": [
    "df_merge_factsales_dimcustomers = df_fact_sales.merge(right = df_dim_customers, left_on = 'customer_key', right_on = 'customer_key', how = 'left')\n",
    "df_merge_factsales_dimcustomers.pivot_table(index = 'country', aggfunc = 'size')"
   ]
  },
  {
   "cell_type": "markdown",
   "id": "94dbabc0",
   "metadata": {},
   "source": [
    "### 4.2 Find the total customers by gender"
   ]
  },
  {
   "cell_type": "code",
   "execution_count": 23,
   "id": "20c96687",
   "metadata": {},
   "outputs": [
    {
     "data": {
      "text/plain": [
       "gender\n",
       "Female    9128\n",
       "Male      9341\n",
       "dtype: int64"
      ]
     },
     "execution_count": 23,
     "metadata": {},
     "output_type": "execute_result"
    }
   ],
   "source": [
    "df_dim_customers.pivot_table(index = 'gender', aggfunc = 'size')"
   ]
  },
  {
   "cell_type": "markdown",
   "id": "6ad35645",
   "metadata": {},
   "source": [
    "### 4.3 Find the total products by category"
   ]
  },
  {
   "cell_type": "code",
   "execution_count": 24,
   "id": "245f4f79",
   "metadata": {},
   "outputs": [
    {
     "data": {
      "text/plain": [
       "category\n",
       "Accessories     29\n",
       "Bikes           97\n",
       "Clothing        35\n",
       "Components     127\n",
       "dtype: int64"
      ]
     },
     "execution_count": 24,
     "metadata": {},
     "output_type": "execute_result"
    }
   ],
   "source": [
    "df_dim_products.pivot_table(index = 'category', aggfunc = 'size')"
   ]
  },
  {
   "cell_type": "markdown",
   "id": "ae037f09",
   "metadata": {},
   "source": [
    "### 4.4 Find the AVG cost of categories"
   ]
  },
  {
   "cell_type": "code",
   "execution_count": 25,
   "id": "77ff7fd8",
   "metadata": {},
   "outputs": [
    {
     "data": {
      "text/html": [
       "<div>\n",
       "<style scoped>\n",
       "    .dataframe tbody tr th:only-of-type {\n",
       "        vertical-align: middle;\n",
       "    }\n",
       "\n",
       "    .dataframe tbody tr th {\n",
       "        vertical-align: top;\n",
       "    }\n",
       "\n",
       "    .dataframe thead th {\n",
       "        text-align: right;\n",
       "    }\n",
       "</style>\n",
       "<table border=\"1\" class=\"dataframe\">\n",
       "  <thead>\n",
       "    <tr style=\"text-align: right;\">\n",
       "      <th></th>\n",
       "      <th>product_cost</th>\n",
       "    </tr>\n",
       "    <tr>\n",
       "      <th>category</th>\n",
       "      <th></th>\n",
       "    </tr>\n",
       "  </thead>\n",
       "  <tbody>\n",
       "    <tr>\n",
       "      <th>Accessories</th>\n",
       "      <td>13.172414</td>\n",
       "    </tr>\n",
       "    <tr>\n",
       "      <th>Bikes</th>\n",
       "      <td>949.443299</td>\n",
       "    </tr>\n",
       "    <tr>\n",
       "      <th>Clothing</th>\n",
       "      <td>24.800000</td>\n",
       "    </tr>\n",
       "    <tr>\n",
       "      <th>Components</th>\n",
       "      <td>264.716535</td>\n",
       "    </tr>\n",
       "  </tbody>\n",
       "</table>\n",
       "</div>"
      ],
      "text/plain": [
       "             product_cost\n",
       "category                 \n",
       "Accessories     13.172414\n",
       "Bikes          949.443299\n",
       "Clothing        24.800000\n",
       "Components     264.716535"
      ]
     },
     "execution_count": 25,
     "metadata": {},
     "output_type": "execute_result"
    }
   ],
   "source": [
    "df_dim_products.pivot_table(values = 'product_cost', index = 'category', aggfunc  = 'mean')"
   ]
  },
  {
   "cell_type": "markdown",
   "id": "4286e99b",
   "metadata": {},
   "source": [
    "### 4.5 Total revenue generated by each country"
   ]
  },
  {
   "cell_type": "code",
   "execution_count": 26,
   "id": "de07077b",
   "metadata": {},
   "outputs": [
    {
     "data": {
      "text/html": [
       "<div>\n",
       "<style scoped>\n",
       "    .dataframe tbody tr th:only-of-type {\n",
       "        vertical-align: middle;\n",
       "    }\n",
       "\n",
       "    .dataframe tbody tr th {\n",
       "        vertical-align: top;\n",
       "    }\n",
       "\n",
       "    .dataframe thead th {\n",
       "        text-align: right;\n",
       "    }\n",
       "</style>\n",
       "<table border=\"1\" class=\"dataframe\">\n",
       "  <thead>\n",
       "    <tr style=\"text-align: right;\">\n",
       "      <th></th>\n",
       "      <th>sales_amount</th>\n",
       "    </tr>\n",
       "    <tr>\n",
       "      <th>country</th>\n",
       "      <th></th>\n",
       "    </tr>\n",
       "  </thead>\n",
       "  <tbody>\n",
       "    <tr>\n",
       "      <th>Australia</th>\n",
       "      <td>9060172</td>\n",
       "    </tr>\n",
       "    <tr>\n",
       "      <th>Canada</th>\n",
       "      <td>1977738</td>\n",
       "    </tr>\n",
       "    <tr>\n",
       "      <th>France</th>\n",
       "      <td>2643751</td>\n",
       "    </tr>\n",
       "    <tr>\n",
       "      <th>Germany</th>\n",
       "      <td>2894066</td>\n",
       "    </tr>\n",
       "    <tr>\n",
       "      <th>United Kingdom</th>\n",
       "      <td>3391376</td>\n",
       "    </tr>\n",
       "    <tr>\n",
       "      <th>United States</th>\n",
       "      <td>9162327</td>\n",
       "    </tr>\n",
       "  </tbody>\n",
       "</table>\n",
       "</div>"
      ],
      "text/plain": [
       "                sales_amount\n",
       "country                     \n",
       "Australia            9060172\n",
       "Canada               1977738\n",
       "France               2643751\n",
       "Germany              2894066\n",
       "United Kingdom       3391376\n",
       "United States        9162327"
      ]
     },
     "execution_count": 26,
     "metadata": {},
     "output_type": "execute_result"
    }
   ],
   "source": [
    "df_merge_factsales_dimcustomers.pivot_table(values = 'sales_amount', index = 'country', aggfunc = 'sum')"
   ]
  },
  {
   "cell_type": "markdown",
   "id": "f1f64e05",
   "metadata": {},
   "source": [
    "### 4.6 Total Reevenue generated by each customers"
   ]
  },
  {
   "cell_type": "code",
   "execution_count": 27,
   "id": "60b91037",
   "metadata": {},
   "outputs": [
    {
     "data": {
      "text/html": [
       "<div>\n",
       "<style scoped>\n",
       "    .dataframe tbody tr th:only-of-type {\n",
       "        vertical-align: middle;\n",
       "    }\n",
       "\n",
       "    .dataframe tbody tr th {\n",
       "        vertical-align: top;\n",
       "    }\n",
       "\n",
       "    .dataframe thead th {\n",
       "        text-align: right;\n",
       "    }\n",
       "</style>\n",
       "<table border=\"1\" class=\"dataframe\">\n",
       "  <thead>\n",
       "    <tr style=\"text-align: right;\">\n",
       "      <th></th>\n",
       "      <th>sales_amount</th>\n",
       "    </tr>\n",
       "    <tr>\n",
       "      <th>customer_key</th>\n",
       "      <th></th>\n",
       "    </tr>\n",
       "  </thead>\n",
       "  <tbody>\n",
       "    <tr>\n",
       "      <th>1</th>\n",
       "      <td>8249</td>\n",
       "    </tr>\n",
       "    <tr>\n",
       "      <th>2</th>\n",
       "      <td>6384</td>\n",
       "    </tr>\n",
       "    <tr>\n",
       "      <th>3</th>\n",
       "      <td>8114</td>\n",
       "    </tr>\n",
       "    <tr>\n",
       "      <th>4</th>\n",
       "      <td>8139</td>\n",
       "    </tr>\n",
       "    <tr>\n",
       "      <th>5</th>\n",
       "      <td>8196</td>\n",
       "    </tr>\n",
       "    <tr>\n",
       "      <th>...</th>\n",
       "      <td>...</td>\n",
       "    </tr>\n",
       "    <tr>\n",
       "      <th>18480</th>\n",
       "      <td>2049</td>\n",
       "    </tr>\n",
       "    <tr>\n",
       "      <th>18481</th>\n",
       "      <td>2442</td>\n",
       "    </tr>\n",
       "    <tr>\n",
       "      <th>18482</th>\n",
       "      <td>3375</td>\n",
       "    </tr>\n",
       "    <tr>\n",
       "      <th>18483</th>\n",
       "      <td>2049</td>\n",
       "    </tr>\n",
       "    <tr>\n",
       "      <th>18484</th>\n",
       "      <td>2049</td>\n",
       "    </tr>\n",
       "  </tbody>\n",
       "</table>\n",
       "<p>18484 rows × 1 columns</p>\n",
       "</div>"
      ],
      "text/plain": [
       "              sales_amount\n",
       "customer_key              \n",
       "1                     8249\n",
       "2                     6384\n",
       "3                     8114\n",
       "4                     8139\n",
       "5                     8196\n",
       "...                    ...\n",
       "18480                 2049\n",
       "18481                 2442\n",
       "18482                 3375\n",
       "18483                 2049\n",
       "18484                 2049\n",
       "\n",
       "[18484 rows x 1 columns]"
      ]
     },
     "execution_count": 27,
     "metadata": {},
     "output_type": "execute_result"
    }
   ],
   "source": [
    "df_merge_factsales_dimcustomers.pivot_table(values = 'sales_amount', index = 'customer_key', aggfunc = 'sum')"
   ]
  },
  {
   "cell_type": "markdown",
   "id": "2118e347",
   "metadata": {},
   "source": [
    "### 4.7 Total Generated Revenue of each product"
   ]
  },
  {
   "cell_type": "code",
   "execution_count": 28,
   "id": "5221ca35",
   "metadata": {},
   "outputs": [
    {
     "data": {
      "text/html": [
       "<div>\n",
       "<style scoped>\n",
       "    .dataframe tbody tr th:only-of-type {\n",
       "        vertical-align: middle;\n",
       "    }\n",
       "\n",
       "    .dataframe tbody tr th {\n",
       "        vertical-align: top;\n",
       "    }\n",
       "\n",
       "    .dataframe thead th {\n",
       "        text-align: right;\n",
       "    }\n",
       "</style>\n",
       "<table border=\"1\" class=\"dataframe\">\n",
       "  <thead>\n",
       "    <tr style=\"text-align: right;\">\n",
       "      <th></th>\n",
       "      <th>sales_amount</th>\n",
       "    </tr>\n",
       "    <tr>\n",
       "      <th>product_name</th>\n",
       "      <th></th>\n",
       "    </tr>\n",
       "  </thead>\n",
       "  <tbody>\n",
       "    <tr>\n",
       "      <th>AWC Logo Cap</th>\n",
       "      <td>19710</td>\n",
       "    </tr>\n",
       "    <tr>\n",
       "      <th>All-Purpose Bike Stand</th>\n",
       "      <td>39591</td>\n",
       "    </tr>\n",
       "    <tr>\n",
       "      <th>Bike Wash - Dissolver</th>\n",
       "      <td>7272</td>\n",
       "    </tr>\n",
       "    <tr>\n",
       "      <th>Classic Vest- L</th>\n",
       "      <td>12480</td>\n",
       "    </tr>\n",
       "    <tr>\n",
       "      <th>Classic Vest- M</th>\n",
       "      <td>12736</td>\n",
       "    </tr>\n",
       "    <tr>\n",
       "      <th>...</th>\n",
       "      <td>...</td>\n",
       "    </tr>\n",
       "    <tr>\n",
       "      <th>Touring-3000 Yellow- 62</th>\n",
       "      <td>37100</td>\n",
       "    </tr>\n",
       "    <tr>\n",
       "      <th>Water Bottle - 30 oz.</th>\n",
       "      <td>21245</td>\n",
       "    </tr>\n",
       "    <tr>\n",
       "      <th>Women's Mountain Shorts- L</th>\n",
       "      <td>25410</td>\n",
       "    </tr>\n",
       "    <tr>\n",
       "      <th>Women's Mountain Shorts- M</th>\n",
       "      <td>24640</td>\n",
       "    </tr>\n",
       "    <tr>\n",
       "      <th>Women's Mountain Shorts- S</th>\n",
       "      <td>21280</td>\n",
       "    </tr>\n",
       "  </tbody>\n",
       "</table>\n",
       "<p>130 rows × 1 columns</p>\n",
       "</div>"
      ],
      "text/plain": [
       "                            sales_amount\n",
       "product_name                            \n",
       "AWC Logo Cap                       19710\n",
       "All-Purpose Bike Stand             39591\n",
       "Bike Wash - Dissolver               7272\n",
       "Classic Vest- L                    12480\n",
       "Classic Vest- M                    12736\n",
       "...                                  ...\n",
       "Touring-3000 Yellow- 62            37100\n",
       "Water Bottle - 30 oz.              21245\n",
       "Women's Mountain Shorts- L         25410\n",
       "Women's Mountain Shorts- M         24640\n",
       "Women's Mountain Shorts- S         21280\n",
       "\n",
       "[130 rows x 1 columns]"
      ]
     },
     "execution_count": 28,
     "metadata": {},
     "output_type": "execute_result"
    }
   ],
   "source": [
    "df_merge_factsales_dimproducts = df_fact_sales.merge(right = df_dim_products, left_on = 'product_key', right_on = 'product_key', how = 'left')\n",
    "\n",
    "df_merge_factsales_dimproducts.pivot_table(values = 'sales_amount', index = 'product_name', aggfunc = 'sum')"
   ]
  },
  {
   "cell_type": "markdown",
   "id": "3b4b6059",
   "metadata": {},
   "source": [
    "## 5. Ranking Analysis"
   ]
  },
  {
   "cell_type": "markdown",
   "id": "ef5f5fd2",
   "metadata": {},
   "source": [
    "### 5.1 Retrieve the top 5 products with most generated revenue"
   ]
  },
  {
   "cell_type": "code",
   "execution_count": 34,
   "id": "a802d01c",
   "metadata": {},
   "outputs": [
    {
     "data": {
      "image/png": "[encoded data removed]",
      "text/plain": [
       "<Figure size 640x480 with 1 Axes>"
      ]
     },
     "metadata": {},
     "output_type": "display_data"
    }
   ],
   "source": [
    "df_ans_51 = df_merge_factsales_dimproducts.pivot_table(values = 'sales_amount', index = 'product_name', aggfunc = 'sum').sort_values('sales_amount', ascending = False).head(10)\n",
    "\n",
    "fig, ax = plt.subplots()\n",
    "df_ans_51.plot(kind = 'barh', ax = ax)\n",
    "plt.xlabel('Sales')\n",
    "plt.ylabel('')\n",
    "plt.title('Top 10 Most Demand Product')\n",
    "ax.xaxis.set_major_formatter(plt.FuncFormatter(lambda y, pos : f'${int(y/1000)}K'))\n",
    "ax.invert_yaxis()\n",
    "plt.show()"
   ]
  },
  {
   "cell_type": "markdown",
   "id": "14eb8332",
   "metadata": {},
   "source": [
    "### 5.2 Retrieve the top 5 products with worst generated revenue"
   ]
  },
  {
   "cell_type": "code",
   "execution_count": 35,
   "id": "7959144e",
   "metadata": {},
   "outputs": [
    {
     "data": {
      "image/png": "[encoded data removed]",
      "text/plain": [
       "<Figure size 640x480 with 1 Axes>"
      ]
     },
     "metadata": {},
     "output_type": "display_data"
    }
   ],
   "source": [
    "df_ans_52 = df_merge_factsales_dimproducts.pivot_table(values = 'sales_amount', index = 'product_name', aggfunc = 'sum').sort_values('sales_amount', ascending = True).head(10)\n",
    "\n",
    "fig, ax = plt.subplots()\n",
    "df_ans_52.plot(kind = 'barh', ax = ax)\n",
    "plt.xlabel('Sales')\n",
    "plt.ylabel('')\n",
    "plt.title('Bottom 10 Most Demand Product')\n",
    "ax.xaxis.set_major_formatter(plt.FuncFormatter(lambda y, pos : f'${int(y/1000)}K'))\n",
    "ax.invert_yaxis()\n",
    "plt.show()"
   ]
  },
  {
   "cell_type": "code",
   "execution_count": null,
   "id": "d68622ad",
   "metadata": {},
   "outputs": [],
   "source": []
  }
 ],
 "metadata": {
  "kernelspec": {
   "display_name": "python_course",
   "language": "python",
   "name": "python3"
  },
  "language_info": {
   "codemirror_mode": {
    "name": "ipython",
    "version": 3
   },
   "file_extension": ".py",
   "mimetype": "text/x-python",
   "name": "python",
   "nbconvert_exporter": "python",
   "pygments_lexer": "ipython3",
   "version": "3.11.11"
  }
 },
 "nbformat": 4,
 "nbformat_minor": 5
}
